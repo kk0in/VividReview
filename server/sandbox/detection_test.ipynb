{
 "cells": [
  {
   "cell_type": "code",
   "execution_count": 7,
   "metadata": {},
   "outputs": [
    {
     "name": "stdout",
     "output_type": "stream",
     "text": [
      "Job(id=\"169075ce-3bb9-4a7b-87d8-f0c9c1d50ce2\")\n",
      "Running...\n",
      "Predictions downloaded to predictions.json\n"
     ]
    }
   ],
   "source": [
    "from hume import HumeBatchClient\n",
    "from hume.models.config import LanguageConfig, ProsodyConfig\n",
    "\n",
    "\n",
    "RECORDING = \"../recordings\"\n",
    "hume_api_key = \"hCcXf3mVNMtVtNvAO9oz60drAywtf4qsHSVArsg2KFij5LvT\"\n",
    "\n",
    "recording_path = f\"{RECORDING}/test.mp3\"\n",
    "\n",
    "client = HumeBatchClient(hume_api_key)\n",
    "filepaths = [\n",
    "    recording_path\n",
    "]\n",
    "\n",
    "# 음성 분석을 위한 설정을 구성합니다. 필요한 설정을 선택하세요.\n",
    "## 둘 다 했을 때 걸린 시간: 1m 19.1s\n",
    "# language_config = LanguageConfig()  # 언어 감정 분석\n",
    "prosody_config = ProsodyConfig()    # 억양, 음조 분석\n",
    "\n",
    "# 작업을 제출합니다.\n",
    "job = client.submit_job(None, [prosody_config], files=filepaths)\n",
    "\n",
    "print(job)\n",
    "print(\"Running...\")\n",
    "\n",
    "# 작업이 완료될 때까지 대기하고, 결과를 다운로드합니다.\n",
    "details = job.await_complete()\n",
    "job.download_predictions(f\"{RECORDING}/test_prosody_predictions.json\")\n",
    "print(\"Predictions downloaded to predictions.json\")"
   ]
  },
  {
   "cell_type": "code",
   "execution_count": 7,
   "metadata": {},
   "outputs": [
    {
     "ename": "IndexError",
     "evalue": "list index out of range",
     "output_type": "error",
     "traceback": [
      "\u001b[0;31m---------------------------------------------------------------------------\u001b[0m",
      "\u001b[0;31mIndexError\u001b[0m                                Traceback (most recent call last)",
      "Cell \u001b[0;32mIn[7], line 13\u001b[0m\n\u001b[1;32m     11\u001b[0m \u001b[38;5;28msum\u001b[39m \u001b[38;5;241m=\u001b[39m \u001b[38;5;241m0\u001b[39m\n\u001b[1;32m     12\u001b[0m count \u001b[38;5;241m=\u001b[39m \u001b[38;5;241m0\u001b[39m\n\u001b[0;32m---> 13\u001b[0m \u001b[38;5;28;01mfor\u001b[39;00m i \u001b[38;5;129;01min\u001b[39;00m \u001b[43mdata\u001b[49m\u001b[43m[\u001b[49m\u001b[38;5;241;43m0\u001b[39;49m\u001b[43m]\u001b[49m\u001b[43m[\u001b[49m\u001b[38;5;124;43m'\u001b[39;49m\u001b[38;5;124;43mresults\u001b[39;49m\u001b[38;5;124;43m'\u001b[39;49m\u001b[43m]\u001b[49m\u001b[43m[\u001b[49m\u001b[38;5;124;43m'\u001b[39;49m\u001b[38;5;124;43mpredictions\u001b[39;49m\u001b[38;5;124;43m'\u001b[39;49m\u001b[43m]\u001b[49m\u001b[43m[\u001b[49m\u001b[38;5;241;43m0\u001b[39;49m\u001b[43m]\u001b[49m\u001b[43m[\u001b[49m\u001b[38;5;124;43m'\u001b[39;49m\u001b[38;5;124;43mmodels\u001b[39;49m\u001b[38;5;124;43m'\u001b[39;49m\u001b[43m]\u001b[49m\u001b[43m[\u001b[49m\u001b[38;5;124;43m'\u001b[39;49m\u001b[38;5;124;43mprosody\u001b[39;49m\u001b[38;5;124;43m'\u001b[39;49m\u001b[43m]\u001b[49m\u001b[43m[\u001b[49m\u001b[38;5;124;43m'\u001b[39;49m\u001b[38;5;124;43mgrouped_predictions\u001b[39;49m\u001b[38;5;124;43m'\u001b[39;49m\u001b[43m]\u001b[49m\u001b[43m[\u001b[49m\u001b[38;5;241;43m1\u001b[39;49m\u001b[43m]\u001b[49m[\u001b[38;5;124m'\u001b[39m\u001b[38;5;124mpredictions\u001b[39m\u001b[38;5;124m'\u001b[39m][\u001b[38;5;241m2\u001b[39m][\u001b[38;5;124m'\u001b[39m\u001b[38;5;124memotions\u001b[39m\u001b[38;5;124m'\u001b[39m]:\n\u001b[1;32m     14\u001b[0m     \u001b[38;5;28msum\u001b[39m \u001b[38;5;241m+\u001b[39m\u001b[38;5;241m=\u001b[39m i[\u001b[38;5;124m'\u001b[39m\u001b[38;5;124mscore\u001b[39m\u001b[38;5;124m'\u001b[39m]\n\u001b[1;32m     15\u001b[0m     count \u001b[38;5;241m+\u001b[39m\u001b[38;5;241m=\u001b[39m \u001b[38;5;241m1\u001b[39m\n",
      "\u001b[0;31mIndexError\u001b[0m: list index out of range"
     ]
    }
   ],
   "source": [
    "import json\n",
    "\n",
    "RECORDING = \"../recordings\"\n",
    "# JSON 파일 경로\n",
    "file_path = f\"{RECORDING}/test_prosody_predictions.json\"\n",
    "\n",
    "# JSON 파일 열기\n",
    "with open(file_path, 'r') as file:\n",
    "    data = json.load(file)\n",
    "\n",
    "sum = 0\n",
    "count = 0\n",
    "for i in data[0]['results']['predictions'][0]['models']['prosody']['grouped_predictions'][0]['predictions'][2]['emotions']:\n",
    "    sum += i['score']\n",
    "    count += 1\n",
    "\n",
    "print(sum, count)\n",
    "# # 각 감정 스코어의 합이 1이 되는지 확인\n",
    "# for segment in data[0]['results']['predictions']:\n",
    "#     for emotion_set in segment['emotions']:\n",
    "#         emotions = emotion_set['emotions']\n",
    "#         score_sum = sum(emotion['score'] for emotion in emotions)\n",
    "#         print(f\"Text: {emotion_set['text']}\")\n",
    "#         print(f\"Sum of scores: {score_sum}\")\n",
    "#         if abs(score_sum - 1) < 1e-6:  # 약간의 오차 허용\n",
    "#             print(\"The scores sum to 1.\")\n",
    "#         else:\n",
    "#             print(\"The scores do not sum to 1.\")\n",
    "#         print(\"-\" * 40)\n"
   ]
  },
  {
   "cell_type": "code",
   "execution_count": 15,
   "metadata": {},
   "outputs": [
    {
     "data": {
      "text/plain": [
       "345"
      ]
     },
     "execution_count": 15,
     "metadata": {},
     "output_type": "execute_result"
    }
   ],
   "source": [
    "len(data[0]['results']['predictions'][0]['models']['prosody']['grouped_predictions'][0]['predictions'])"
   ]
  },
  {
   "cell_type": "code",
   "execution_count": 21,
   "metadata": {},
   "outputs": [
    {
     "data": {
      "text/plain": [
       "['10_recording.mp3']"
      ]
     },
     "execution_count": 21,
     "metadata": {},
     "output_type": "execute_result"
    }
   ],
   "source": []
  },
  {
   "cell_type": "code",
   "execution_count": null,
   "metadata": {},
   "outputs": [],
   "source": []
  }
 ],
 "metadata": {
  "kernelspec": {
   "display_name": "venv",
   "language": "python",
   "name": "python3"
  },
  "language_info": {
   "codemirror_mode": {
    "name": "ipython",
    "version": 3
   },
   "file_extension": ".py",
   "mimetype": "text/x-python",
   "name": "python",
   "nbconvert_exporter": "python",
   "pygments_lexer": "ipython3",
   "version": "3.9.6"
  }
 },
 "nbformat": 4,
 "nbformat_minor": 2
}
