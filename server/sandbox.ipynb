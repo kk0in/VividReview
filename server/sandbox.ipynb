{
 "cells": [
  {
   "cell_type": "code",
   "execution_count": 5,
   "metadata": {},
   "outputs": [],
   "source": [
    "def convert_frame(datetime):\n",
    "    minute = int(datetime.split(':')[0])\n",
    "    second = int(datetime.split(':')[1].split('.')[0])\n",
    "    frame = int(datetime.split(':')[1].split('.')[1])\n",
    "\n",
    "    total_frame = frame + 60 * second + 3600 * minute\n",
    "\n",
    "    return total_frame"
   ]
  },
  {
   "cell_type": "code",
   "execution_count": 6,
   "metadata": {},
   "outputs": [
    {
     "name": "stdout",
     "output_type": "stream",
     "text": [
      "1\n",
      "21\n"
     ]
    }
   ],
   "source": [
    "dic = {\n",
    "    \"label\": \"M3\",\n",
    "    \"start\": \"00:00.00\",\n",
    "    \"end\": \"00:00.21\",\n",
    "    \"duration\": \"00:00.21\"\n",
    "  }\n",
    "\n",
    "start_frame = convert_frame(dic[\"start\"]) + 1\n",
    "end_frame = convert_frame(dic[\"end\"])\n",
    "\n",
    "print(start_frame)\n",
    "print(end_frame)"
   ]
  },
  {
   "cell_type": "code",
   "execution_count": 4,
   "metadata": {},
   "outputs": [],
   "source": [
    "import os\n",
    "import json\n",
    "\n",
    "RESULT = './results'\n",
    "project_id = 1\n",
    "\n",
    "with open(os.path.join(RESULT, 'temp.json'), 'r') as f:\n",
    "    data = json.load(f)\n",
    "for dic in data:\n",
    "    dic['topk'] = [{'label': 'M3', 'score':0.94}]\n",
    "    \n",
    "with open(os.path.join(RESULT, 'temp.json'), 'w') as f:\n",
    "    json.dump(data, f)\n"
   ]
  }
 ],
 "metadata": {
  "kernelspec": {
   "display_name": ".venv",
   "language": "python",
   "name": "python3"
  },
  "language_info": {
   "codemirror_mode": {
    "name": "ipython",
    "version": 3
   },
   "file_extension": ".py",
   "mimetype": "text/x-python",
   "name": "python",
   "nbconvert_exporter": "python",
   "pygments_lexer": "ipython3",
   "version": "3.9.16"
  },
  "orig_nbformat": 4
 },
 "nbformat": 4,
 "nbformat_minor": 2
}
