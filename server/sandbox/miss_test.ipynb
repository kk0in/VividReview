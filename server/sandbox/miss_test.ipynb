{
 "cells": [
  {
   "cell_type": "code",
   "execution_count": 4,
   "metadata": {},
   "outputs": [
    {
     "name": "stdout",
     "output_type": "stream",
     "text": [
      "Missed Part is from 40.0 to 60.0\n"
     ]
    }
   ],
   "source": [
    "dic = {\n",
    "    \"1\": {\n",
    "        \"user_timestamp\": {\n",
    "            \"start\": 0.0,\n",
    "            \"end\": 60.0\n",
    "        },\n",
    "        \"gpt_timestamp\": {\n",
    "            \"start\": 0.0,\n",
    "            \"end\": 40.0\n",
    "        }\n",
    "    },\n",
    "    \"2\": {\n",
    "        \"user_timestamp\": {\n",
    "            \"start\": 60.0,\n",
    "            \"end\": 100.0\n",
    "        },\n",
    "        \"gpt_timestamp\": {\n",
    "            \"start\": 40.0,\n",
    "            \"end\": 100.0\n",
    "        }\n",
    "    }\n",
    "}\n",
    "\n",
    "\n",
    "curr_page = \"2\"\n",
    "prev_page = str(int(curr_page) - 1)\n",
    "\n",
    "if dic[curr_page][\"gpt_timestamp\"][\"start\"] < dic[prev_page][\"user_timestamp\"][\"end\"]:\n",
    "    print(\"Missed Part is from {} to {}\".format(dic[curr_page][\"gpt_timestamp\"][\"start\"], dic[prev_page][\"user_timestamp\"][\"end\"]))\n"
   ]
  },
  {
   "cell_type": "code",
   "execution_count": 10,
   "metadata": {},
   "outputs": [
    {
     "name": "stdout",
     "output_type": "stream",
     "text": [
      "Missed Part is from 40.0 to 60.0\n"
     ]
    }
   ],
   "source": [
    "for curr_page in list(dic.keys())[1:]:\n",
    "    prev_page = str(int(curr_page) - 1)\n",
    "    if dic[curr_page][\"gpt_timestamp\"][\"start\"] < dic[prev_page][\"user_timestamp\"][\"end\"]:\n",
    "        print(\"Missed Part is from {} to {}\".format(dic[curr_page][\"gpt_timestamp\"][\"start\"], dic[prev_page][\"user_timestamp\"][\"end\"]))"
   ]
  },
  {
   "cell_type": "code",
   "execution_count": null,
   "metadata": {},
   "outputs": [],
   "source": []
  }
 ],
 "metadata": {
  "kernelspec": {
   "display_name": "venv",
   "language": "python",
   "name": "python3"
  },
  "language_info": {
   "codemirror_mode": {
    "name": "ipython",
    "version": 3
   },
   "file_extension": ".py",
   "mimetype": "text/x-python",
   "name": "python",
   "nbconvert_exporter": "python",
   "pygments_lexer": "ipython3",
   "version": "3.9.6"
  }
 },
 "nbformat": 4,
 "nbformat_minor": 2
}
